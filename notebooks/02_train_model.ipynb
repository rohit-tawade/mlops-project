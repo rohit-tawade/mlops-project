{
 "cells": [
  {
   "cell_type": "code",
   "execution_count": 0,
   "metadata": {
    "application/vnd.databricks.v1+cell": {
     "cellMetadata": {
      "byteLimit": 2048000,
      "rowLimit": 10000
     },
     "inputWidgets": {},
     "nuid": "81b7b491-8ee9-4cea-af26-2bc4def6fff9",
     "showTitle": false,
     "tableResultSettingsMap": {},
     "title": ""
    }
   },
   "outputs": [],
   "source": [
    "import mlflow\n",
    "import mlflow.sklearn\n",
    "from mlflow.models.signature import infer_signature\n",
    "from sklearn.model_selection import train_test_split\n",
    "from sklearn.ensemble import RandomForestClassifier\n",
    "from sklearn.metrics import accuracy_score\n",
    "from pyspark.sql import functions as F\n",
    "import pandas as pd\n",
    "\n",
    "# Load data from Delta table\n",
    "iris_df = spark.table(\"dev.iris_data\")\n",
    "\n",
    "# Feature engineering: add 'sepal_area' column\n",
    "iris_df = iris_df.withColumn(\"sepal_area\", F.col(\"sepal_length\") * F.col(\"sepal_width\"))\n",
    "\n",
    "# Convert to pandas DataFrame for sklearn\n",
    "iris_pd = iris_df.toPandas()\n",
    "\n",
    "# Define features and target variable\n",
    "X = iris_pd[[\"sepal_length\", \"sepal_width\", \"petal_length\", \"petal_width\", \"sepal_area\"]]\n",
    "y = iris_pd[\"class\"]\n",
    "\n",
    "# Split into train and test sets\n",
    "X_train, X_test, y_train, y_test = train_test_split(X, y, test_size=0.2, random_state=42)\n",
    "\n",
    "# Train a Random Forest model with MLflow tracking\n",
    "with mlflow.start_run(run_name=\"rf_dev\"):\n",
    "    model = RandomForestClassifier(n_estimators=50, random_state=42)\n",
    "    model.fit(X_train, y_train)\n",
    "    preds = model.predict(X_test)\n",
    "    acc = accuracy_score(y_test, preds)\n",
    "\n",
    "    # Infer model signature for logging (input/output schema)\n",
    "    example_input = X_train.head(5)\n",
    "    signature = infer_signature(example_input, model.predict(example_input))\n",
    "\n",
    "    mlflow.log_param(\"n_estimators\", 50)\n",
    "    mlflow.log_metric(\"accuracy\", acc)\n",
    "    mlflow.sklearn.log_model(model, \n",
    "                            \"model\", \n",
    "                            registered_model_name=\"iris_classifier_dev\",\n",
    "                            signature=signature,\n",
    "                            input_example=example_input)\n",
    "\n",
    "print(\"Model accuracy:\", acc)\n"
   ]
  }
 ],
 "metadata": {
  "application/vnd.databricks.v1+notebook": {
   "computePreferences": null,
   "dashboards": [],
   "environmentMetadata": {
    "base_environment": "",
    "environment_version": "3"
   },
   "inputWidgetPreferences": null,
   "language": "python",
   "notebookMetadata": {
    "pythonIndentUnit": 4
   },
   "notebookName": "02_train_model",
   "widgets": {}
  },
  "language_info": {
   "name": "python"
  }
 },
 "nbformat": 4,
 "nbformat_minor": 0
}
